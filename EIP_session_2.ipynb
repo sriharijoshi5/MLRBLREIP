{
 "cells": [
  {
   "cell_type": "code",
   "execution_count": 1,
   "metadata": {},
   "outputs": [
    {
     "name": "stdout",
     "output_type": "stream",
     "text": [
      "<class 'int'>\n",
      "3\n",
      "4\n",
      "2\n",
      "6\n",
      "9\n",
      "4\n",
      "8\n",
      "<class 'float'>\n",
      "2.5 3.5 5.0 6.25\n"
     ]
    }
   ],
   "source": [
    "#Datatypes#Dataty \n",
    "#Integers and floating numbers, basic arithmetic operations\n",
    "eip = 3\n",
    "print(type(eip)) # Prints \"<class 'int'>\"\n",
    "print(eip)       # Prints \"3\"\n",
    "print(eip + 1)   # Addition; prints \"4\"\n",
    "print(eip - 1)   # Subtraction; prints \"2\"\n",
    "print(eip * 2)   # Multiplication; prints \"6\"\n",
    "print(eip ** 2)  # Exponentiation; prints \"9\"\n",
    "eip += 1\n",
    "print(eip)  # Prints \"4\"\n",
    "eip *= 2\n",
    "print(eip)  # Prints \"8\"\n",
    "mlblr = 2.5\n",
    "print(type(mlblr)) # Prints \"<class 'float'>\"\n",
    "print(mlblr, mlblr + 1, mlblr * 2, mlblr ** 2) # Prints \"2.5 3.5 5.0 6.25\""
   ]
  },
  {
   "cell_type": "code",
   "execution_count": 2,
   "metadata": {},
   "outputs": [
    {
     "name": "stdout",
     "output_type": "stream",
     "text": [
      "<class 'bool'>\n",
      "False\n",
      "True\n",
      "False\n",
      "True\n"
     ]
    }
   ],
   "source": [
    "#Boolean operations\n",
    "eip = True\n",
    "mlblr = False\n",
    "print(type(eip)) # Prints \"<class 'bool'>\"\n",
    "print(eip and mlblr) # Logical AND; prints \"False\"\n",
    "print(eip or mlblr)  # Logical OR; prints \"True\"\n",
    "print(not eip)   # Logical NOT; prints \"False\"\n",
    "print(eip != mlblr)  # Logical XOR; prints \"True\""
   ]
  },
  {
   "cell_type": "code",
   "execution_count": 3,
   "metadata": {},
   "outputs": [
    {
     "name": "stdout",
     "output_type": "stream",
     "text": [
      "hello\n",
      "5\n",
      "hello world\n",
      "hello world 2018\n",
      "Hello\n",
      "HELLO\n",
      "  hello\n",
      " hello \n",
      "he(ell)(ell)o\n",
      "world\n"
     ]
    }
   ],
   "source": [
    "# Python strings\n",
    "eip = 'hello'    # String literals can use single quotes\n",
    "mlblr = \"world\"    # or double quotes; it does not matter.\n",
    "print(eip)       # Prints \"hello\"\n",
    "print(len(eip))  # String length; prints \"5\"\n",
    "eip_in = eip + ' ' + mlblr  # String concatenation\n",
    "print(eip_in)  # prints \"hello world\"\n",
    "eip_out = '%s %s %d' % (eip, mlblr, 2018)  # sprintf style string formatting\n",
    "print(eip_out)  # prints \"hello world 2018\"\n",
    "\n",
    "# methods which can be applied for strings\n",
    "\n",
    "mlblr_in = \"hello\"\n",
    "print(mlblr_in.capitalize())  # Capitalize a string; prints \"Hello\"\n",
    "print(mlblr_in.upper())       # Convert a string to uppercase; prints \"HELLO\"\n",
    "print(mlblr_in.rjust(7))      # Right-justify a string, padding with spaces; prints \"  hello\"\n",
    "print(mlblr_in.center(7))     # Center a string, padding with spaces; prints \" hello \"\n",
    "print(mlblr_in.replace('l', '(ell)'))  # Replace all instances of one substring with another; # prints \"he(ell)(ell)o\"\n",
    "print('  world '.strip())  # Strip leading and trailing whitespace; prints \"world\""
   ]
  },
  {
   "cell_type": "code",
   "execution_count": 4,
   "metadata": {},
   "outputs": [
    {
     "name": "stdout",
     "output_type": "stream",
     "text": [
      "[3, 1, 2] 2\n",
      "2\n",
      "[3, 1, 'foo']\n",
      "[3, 1, 'foo', 'bar']\n",
      "bar [3, 1, 'foo']\n"
     ]
    }
   ],
   "source": [
    "#Containersa in Python\n",
    "#List\n",
    "eip_list = [3, 1, 2]    # Create a list\n",
    "print(eip_list, eip_list[2])  # Prints \"[3, 1, 2] 2\"\n",
    "print(eip_list[-1])     # Negative indices count from the end of the list; prints \"2\"\n",
    "eip_list[2] = 'foo'     # Lists can contain elements of different types\n",
    "print(eip_list)         # Prints \"[3, 1, 'foo']\"\n",
    "eip_list.append('bar')  # Add a new element to the end of the list\n",
    "print(eip_list)         # Prints \"[3, 1, 'foo', 'bar']\"\n",
    "eip = eip_list.pop()      # Remove and return the last element of the list\n",
    "print(eip, eip_list)      # Prints \"bar [3, 1, 'foo']\""
   ]
  },
  {
   "cell_type": "code",
   "execution_count": 5,
   "metadata": {},
   "outputs": [
    {
     "name": "stdout",
     "output_type": "stream",
     "text": [
      "[0, 1, 2, 3, 4]\n",
      "[2, 3]\n",
      "[2, 3, 4]\n",
      "[0, 1]\n",
      "[0, 1, 2, 3, 4]\n",
      "[0, 1, 2, 3]\n",
      "[0, 1, 8, 9, 4]\n"
     ]
    }
   ],
   "source": [
    "#Slicing \n",
    "\n",
    "mlblr = list(range(5))     # range is a built-in function that creates a list of integers\n",
    "print(mlblr)               # Prints \"[0, 1, 2, 3, 4]\"\n",
    "print(mlblr[2:4])          # Get a slice from index 2 to 4 (exclusive); prints \"[2, 3]\"\n",
    "print(mlblr[2:])           # Get a slice from index 2 to the end; prints \"[2, 3, 4]\"\n",
    "print(mlblr[:2])           # Get a slice from the start to index 2 (exclusive); prints \"[0, 1]\"\n",
    "print(mlblr[:])            # Get a slice of the whole list; prints \"[0, 1, 2, 3, 4]\"\n",
    "print(mlblr[:-1])          # Slice indices can be negative; prints \"[0, 1, 2, 3]\"\n",
    "mlblr[2:4] = [8, 9]        # Assign a new sublist to a slice\n",
    "print(mlblr)               # Prints \"[0, 1, 8, 9, 4]\""
   ]
  },
  {
   "cell_type": "code",
   "execution_count": 6,
   "metadata": {},
   "outputs": [
    {
     "name": "stdout",
     "output_type": "stream",
     "text": [
      "cat\n",
      "dog\n",
      "monkey\n",
      "#1: cat\n",
      "#2: dog\n",
      "#3: monkey\n"
     ]
    }
   ],
   "source": [
    "#Loops\n",
    "\n",
    "eip_list = ['cat', 'dog', 'monkey']\n",
    "for eip in eip_list:\n",
    "    print(eip)\n",
    "# Prints \"cat\", \"dog\", \"monkey\", each on its own line.\n",
    "\n",
    "#Enumerate\n",
    "\n",
    "eip_out = ['cat', 'dog', 'monkey']\n",
    "for mlblr, eip in enumerate(eip_out):\n",
    "    print('#%d: %s' % (mlblr + 1, eip))\n",
    "# Prints \"#1: cat\", \"#2: dog\", \"#3: monkey\", each on its own line"
   ]
  },
  {
   "cell_type": "code",
   "execution_count": 7,
   "metadata": {},
   "outputs": [
    {
     "name": "stdout",
     "output_type": "stream",
     "text": [
      "[0, 1, 4, 9, 16]\n",
      "[0, 1, 4, 9, 16]\n",
      "[0, 4, 16]\n"
     ]
    }
   ],
   "source": [
    "#List Comprehension\n",
    "\n",
    "eip_list = [0, 1, 2, 3, 4]\n",
    "eip = []\n",
    "for eip_in in eip_list:\n",
    "    eip.append(eip_in ** 2)\n",
    "print(eip)   # Prints [0, 1, 4, 9, 16]\n",
    "\n",
    "eip_list = [0, 1, 2, 3, 4]\n",
    "eip_out = [eip_in ** 2 for eip_in in eip_list]\n",
    "print(eip_out)   # Prints [0, 1, 4, 9, 16]\n",
    "\n",
    "# list comprehensions can also contain conditions\n",
    "\n",
    "eip_list = [0, 1, 2, 3, 4]\n",
    "eip_out = [eip_in ** 2 for eip_in in eip_list if eip_in % 2 == 0]\n",
    "print(eip_out)  # Prints \"[0, 4, 16]\""
   ]
  },
  {
   "cell_type": "code",
   "execution_count": 8,
   "metadata": {},
   "outputs": [
    {
     "name": "stdout",
     "output_type": "stream",
     "text": [
      "cute\n",
      "True\n",
      "wet\n",
      "N/A\n",
      "wet\n",
      "N/A\n",
      "A person has 2 legs\n",
      "A cat has 4 legs\n",
      "A spider has 8 legs\n"
     ]
    }
   ],
   "source": [
    "\n",
    "#Dictionaries#Diction \n",
    "\n",
    "eip_dict = {'cat': 'cute', 'dog': 'furry'}  # Create a new dictionary with some data\n",
    "print(eip_dict['cat'])       # Get an entry from a dictionary; prints \"cute\"\n",
    "print('cat' in eip_dict)     # Check if a dictionary has a given key; prints \"True\"\n",
    "eip_dict['fish'] = 'wet'     # Set an entry in a dictionary\n",
    "print(eip_dict['fish'])      # Prints \"wet\"\n",
    "# print(eip_dict['monkey'])  # KeyError: 'monkey' not a key of d\n",
    "print(eip_dict.get('monkey', 'N/A'))  # Get an element with a default; prints \"N/A\"\n",
    "print(eip_dict.get('fish', 'N/A'))    # Get an element with a default; prints \"wet\"\n",
    "del eip_dict['fish']         # Remove an element from a dictionary\n",
    "print(eip_dict.get('fish', 'N/A')) # \"fish\" is no longer a key; prints \"N/A\"\n",
    "\n",
    "\n",
    "# It is easy to iterate over the keys in a dictionary\n",
    "\n",
    "eip_dict = {'person': 2, 'cat': 4, 'spider': 8}\n",
    "for eip_in in eip_dict:\n",
    "    eip_out = eip_dict[eip_in]\n",
    "    print('A %s has %d legs' % (eip_in, eip_out))\n",
    "# Prints \"A person has 2 legs\", \"A cat has 4 legs\", \"A spider has 8 legs\""
   ]
  },
  {
   "cell_type": "code",
   "execution_count": 9,
   "metadata": {},
   "outputs": [
    {
     "name": "stdout",
     "output_type": "stream",
     "text": [
      "A person has 2 legs\n",
      "A cat has 4 legs\n",
      "A spider has 8 legs\n",
      "{0: 0, 2: 4, 4: 16}\n"
     ]
    }
   ],
   "source": [
    "#Dictionary Comprehension\n",
    "\n",
    "# If you want access to keys and their corresponding values, use the items method:\n",
    "\n",
    "eip_dict = {'person': 2, 'cat': 4, 'spider': 8}\n",
    "for eip_in, eip_out in eip_dict.items():\n",
    "    print('A %s has %d legs' % (eip_in, eip_out))\n",
    "# Prints \"A person has 2 legs\", \"A cat has 4 legs\", \"A spider has 8 legs\"\n",
    "\n",
    "# Dictionary comprehension\n",
    "\n",
    "eip_dict = [0, 1, 2, 3, 4]\n",
    "eip_out = {eip_in: eip_in ** 2 for eip_in in eip_dict if eip_in % 2 == 0}\n",
    "print(eip_out)  # Prints \"{0: 0, 2: 4, 4: 16}\""
   ]
  },
  {
   "cell_type": "code",
   "execution_count": 10,
   "metadata": {},
   "outputs": [
    {
     "ename": "IndentationError",
     "evalue": "unexpected indent (<ipython-input-10-bf7a4e5fb00a>, line 4)",
     "output_type": "error",
     "traceback": [
      "\u001b[1;36m  File \u001b[1;32m\"<ipython-input-10-bf7a4e5fb00a>\"\u001b[1;36m, line \u001b[1;32m4\u001b[0m\n\u001b[1;33m    eip_listeip_list = {'cat', 'dog'}\u001b[0m\n\u001b[1;37m    ^\u001b[0m\n\u001b[1;31mIndentationError\u001b[0m\u001b[1;31m:\u001b[0m unexpected indent\n"
     ]
    }
   ],
   "source": [
    "\n",
    "#Sets#Sets\n",
    "\n",
    "  eip_listeip_list = {'cat', 'dog'}\n",
    "print('cat' in eip_list)   # Check if an element is in a set; prints \"True\"\n",
    "print('fish' in eip_list)  # prints \"False\"\n",
    "eip_list.add('fish')       # Add an element to a set\n",
    "print('fish' in eip_list)  # Prints \"True\"\n",
    "print(len(eip_list))       # Number of elements in a set; prints \"3\"\n",
    "eip_list.add('cat')        # Adding an element that is already in the set does nothing\n",
    "print(len(eip_list))       # Prints \"3\"\n",
    "eip_list.remove('cat')     # Remove an element from a set\n",
    "print(len(eip_list))       # Prints \"2\""
   ]
  },
  {
   "cell_type": "code",
   "execution_count": 11,
   "metadata": {},
   "outputs": [
    {
     "name": "stdout",
     "output_type": "stream",
     "text": [
      "False\n",
      "False\n"
     ]
    },
    {
     "ename": "AttributeError",
     "evalue": "'list' object has no attribute 'add'",
     "output_type": "error",
     "traceback": [
      "\u001b[1;31m---------------------------------------------------------------------------\u001b[0m",
      "\u001b[1;31mAttributeError\u001b[0m                            Traceback (most recent call last)",
      "\u001b[1;32m<ipython-input-11-ea98a3da7f04>\u001b[0m in \u001b[0;36m<module>\u001b[1;34m()\u001b[0m\n\u001b[0;32m      5\u001b[0m \u001b[0mprint\u001b[0m\u001b[1;33m(\u001b[0m\u001b[1;34m'cat'\u001b[0m \u001b[1;32min\u001b[0m \u001b[0meip_list\u001b[0m\u001b[1;33m)\u001b[0m   \u001b[1;31m# Check if an element is in a set; prints \"True\"\u001b[0m\u001b[1;33m\u001b[0m\u001b[0m\n\u001b[0;32m      6\u001b[0m \u001b[0mprint\u001b[0m\u001b[1;33m(\u001b[0m\u001b[1;34m'fish'\u001b[0m \u001b[1;32min\u001b[0m \u001b[0meip_list\u001b[0m\u001b[1;33m)\u001b[0m  \u001b[1;31m# prints \"False\"\u001b[0m\u001b[1;33m\u001b[0m\u001b[0m\n\u001b[1;32m----> 7\u001b[1;33m \u001b[0meip_list\u001b[0m\u001b[1;33m.\u001b[0m\u001b[0madd\u001b[0m\u001b[1;33m(\u001b[0m\u001b[1;34m'fish'\u001b[0m\u001b[1;33m)\u001b[0m       \u001b[1;31m# Add an element to a set\u001b[0m\u001b[1;33m\u001b[0m\u001b[0m\n\u001b[0m\u001b[0;32m      8\u001b[0m \u001b[0mprint\u001b[0m\u001b[1;33m(\u001b[0m\u001b[1;34m'fish'\u001b[0m \u001b[1;32min\u001b[0m \u001b[0meip_list\u001b[0m\u001b[1;33m)\u001b[0m  \u001b[1;31m# Prints \"True\"\u001b[0m\u001b[1;33m\u001b[0m\u001b[0m\n\u001b[0;32m      9\u001b[0m \u001b[0mprint\u001b[0m\u001b[1;33m(\u001b[0m\u001b[0mlen\u001b[0m\u001b[1;33m(\u001b[0m\u001b[0meip_list\u001b[0m\u001b[1;33m)\u001b[0m\u001b[1;33m)\u001b[0m       \u001b[1;31m# Number of elements in a set; prints \"3\"\u001b[0m\u001b[1;33m\u001b[0m\u001b[0m\n",
      "\u001b[1;31mAttributeError\u001b[0m: 'list' object has no attribute 'add'"
     ]
    }
   ],
   "source": [
    "\n",
    "#Sets#Sets\n",
    "\n",
    "eip_listeip_list = {'cat', 'dog'}\n",
    "print('cat' in eip_list)   # Check if an element is in a set; prints \"True\"\n",
    "print('fish' in eip_list)  # prints \"False\"\n",
    "eip_list.add('fish')       # Add an element to a set\n",
    "print('fish' in eip_list)  # Prints \"True\"\n",
    "print(len(eip_list))       # Number of elements in a set; prints \"3\"\n",
    "eip_list.add('cat')        # Adding an element that is already in the set does nothing\n",
    "print(len(eip_list))       # Prints \"3\"\n",
    "eip_list.remove('cat')     # Remove an element from a set\n",
    "print(len(eip_list))       # Prints \"2\""
   ]
  },
  {
   "cell_type": "code",
   "execution_count": 12,
   "metadata": {},
   "outputs": [
    {
     "name": "stdout",
     "output_type": "stream",
     "text": [
      "True\n",
      "False\n",
      "True\n",
      "3\n",
      "3\n",
      "2\n"
     ]
    }
   ],
   "source": [
    "#Sets\n",
    "\n",
    "eip_list = {'cat', 'dog'}\n",
    "print('cat' in eip_list)   # Check if an element is in a set; prints \"True\"\n",
    "print('fish' in eip_list)  # prints \"False\"\n",
    "eip_list.add('fish')       # Add an element to a set\n",
    "print('fish' in eip_list)  # Prints \"True\"\n",
    "print(len(eip_list))       # Number of elements in a set; prints \"3\"\n",
    "eip_list.add('cat')        # Adding an element that is already in the set does nothing\n",
    "print(len(eip_list))       # Prints \"3\"\n",
    "eip_list.remove('cat')     # Remove an element from a set\n",
    "print(len(eip_list))       # Prints \"2\""
   ]
  },
  {
   "cell_type": "code",
   "execution_count": 13,
   "metadata": {},
   "outputs": [
    {
     "name": "stdout",
     "output_type": "stream",
     "text": [
      "<class 'tuple'>\n",
      "5\n",
      "1\n"
     ]
    }
   ],
   "source": [
    "#Tuples\n",
    "\n",
    "eip_dict = {(eip, eip + 1): eip for eip in range(10)}  # Create a dictionary with tuple keys\n",
    "mlblr = (5, 6)        # Create a tuple\n",
    "print(type(mlblr))    # Prints \"<class 'tuple'>\"\n",
    "print(eip_dict[mlblr])       # Prints \"5\"\n",
    "print(eip_dict[(1, 2)])  # Prints \"1\"\n"
   ]
  },
  {
   "cell_type": "code",
   "execution_count": 14,
   "metadata": {},
   "outputs": [
    {
     "name": "stdout",
     "output_type": "stream",
     "text": [
      "negative\n",
      "zero\n",
      "positive\n"
     ]
    }
   ],
   "source": [
    "#Functions\n",
    "\n",
    "def sign(eip):\n",
    "    if eip > 0:\n",
    "        return 'positive'\n",
    "    elif eip < 0:\n",
    "        return 'negative'\n",
    "    else:\n",
    "        return 'zero'\n",
    "\n",
    "for eip in [-1, 0, 1]:\n",
    "    print(sign(eip))\n",
    "# Prints \"negative\", \"zero\", \"positive\""
   ]
  },
  {
   "cell_type": "code",
   "execution_count": 15,
   "metadata": {},
   "outputs": [
    {
     "name": "stdout",
     "output_type": "stream",
     "text": [
      "Hello, Bob\n",
      "HELLO, FRED!\n"
     ]
    }
   ],
   "source": [
    "\n",
    "#Function Arguments#Functio \n",
    "\n",
    "def hello(eip, mlblr=False):\n",
    "    if mlblr:\n",
    "        print('HELLO, %s!' % eip.upper())\n",
    "    else:\n",
    "        print('Hello, %s' % eip)\n",
    "\n",
    "hello('Bob') # Prints \"Hello, Bob\"\n",
    "hello('Fred', mlblr=True)  "
   ]
  },
  {
   "cell_type": "code",
   "execution_count": 16,
   "metadata": {},
   "outputs": [
    {
     "name": "stdout",
     "output_type": "stream",
     "text": [
      "<class 'numpy.ndarray'>\n",
      "(3,)\n",
      "1 2 3\n",
      "[5 2 3]\n",
      "(2, 3)\n",
      "1 2 4\n"
     ]
    }
   ],
   "source": [
    "#NumPy\n",
    "\n",
    "import numpy as eip\n",
    "\n",
    "mlblr = eip.array([1, 2, 3])   # Create a rank 1 array\n",
    "print(type(mlblr))            # Prints \"<class 'numpy.ndarray'>\"\n",
    "print(mlblr.shape)            # Prints \"(3,)\"\n",
    "print(mlblr[0], mlblr[1], mlblr[2])   # Prints \"1 2 3\"\n",
    "mlblr[0] = 5                  # Change an element of the array\n",
    "print(mlblr)                  # Prints \"[5, 2, 3]\"\n",
    "\n",
    "mlblr = eip.array([[1,2,3],[4,5,6]])    # Create a rank 2 array\n",
    "print(mlblr.shape)                     # Prints \"(2, 3)\"\n",
    "print(mlblr[0, 0], mlblr[0, 1], mlblr[1, 0])  "
   ]
  },
  {
   "cell_type": "code",
   "execution_count": 17,
   "metadata": {},
   "outputs": [
    {
     "name": "stdout",
     "output_type": "stream",
     "text": [
      "[[0. 0.]\n",
      " [0. 0.]]\n",
      "[[1. 1.]]\n",
      "[[7 7]\n",
      " [7 7]]\n",
      "[[0.95036291 0.38216656]\n",
      " [0.39083613 0.69056387]]\n"
     ]
    }
   ],
   "source": [
    "#Some NumPy Functions\n",
    "\n",
    "import numpy as eip\n",
    "\n",
    "eip_in = eip.zeros((2,2))   # Create an array of all zeros\n",
    "print(eip_in)              # Prints \"[[ 0.  0.]\n",
    "                      #          [ 0.  0.]]\"\n",
    "\n",
    "eip_in = eip.ones((1,2))    # Create an array of all ones\n",
    "print(eip_in)              # Prints \"[[ 1.  1.]]\"\n",
    "\n",
    "eip_in = eip.full((2,2), 7)  # Create a constant array\n",
    "print(eip_in)               # Prints \"[[ 7.  7.]\n",
    "                       #          [ 7.  7.]]\"\n",
    "\n",
    "eip_in = eip.random.random((2,2))  # Create an array filled with random values\n",
    "print(eip_in)                     # Might print \"[[ 0.91940167  0.08143941]\n",
    "                             #               [ 0.68744134  0.87236687]]\""
   ]
  },
  {
   "cell_type": "code",
   "execution_count": 18,
   "metadata": {},
   "outputs": [
    {
     "name": "stdout",
     "output_type": "stream",
     "text": [
      "[5 6 7 8] (4,)\n",
      "[[5 6 7 8]] (1, 4)\n"
     ]
    }
   ],
   "source": [
    "#Mixing integer indexing with slice indexing\n",
    "\n",
    "import numpy as eip\n",
    "\n",
    "# Create the following rank 2 array with shape (3, 4)\n",
    "# [[ 1  2  3  4]\n",
    "#  [ 5  6  7  8]\n",
    "#  [ 9 10 11 12]]\n",
    "mlblr = eip.array([[1,2,3,4], [5,6,7,8], [9,10,11,12]])\n",
    "\n",
    "# Two ways of accessing the data in the middle row of the array.\n",
    "eip_in = mlblr[1, :]    # Rank 1 view of the second row of a\n",
    "eip_out = mlblr[1:2, :]  # Rank 2 view of the second row of a\n",
    "print(eip_in, eip_in.shape)  # Prints \"[5 6 7 8] (4,)\"\n",
    "print(eip_out, eip_out.shape)  # Prints \"[[5 6 7 8]] (1, 4)\""
   ]
  },
  {
   "cell_type": "code",
   "execution_count": 19,
   "metadata": {},
   "outputs": [
    {
     "name": "stdout",
     "output_type": "stream",
     "text": [
      "int32\n",
      "float64\n",
      "int64\n"
     ]
    }
   ],
   "source": [
    "\n",
    "#Datatypes#Datatyp \n",
    "\n",
    "import numpy as eip\n",
    "\n",
    "eip_in = eip.array([1, 2])   # Let numpy choose the datatype\n",
    "print(eip_in.dtype)         # Prints \"int64\"\n",
    "\n",
    "eip_in = eip.array([1.0, 2.0])   # Let numpy choose the datatype\n",
    "print(eip_in.dtype)             # Prints \"float64\"\n",
    "\n",
    "eip_in = eip.array([1, 2], dtype=eip.int64)   # Force a particular datatype\n",
    "print(eip_in.dtype)                         # Prints \"int64\""
   ]
  },
  {
   "cell_type": "code",
   "execution_count": 20,
   "metadata": {},
   "outputs": [
    {
     "name": "stdout",
     "output_type": "stream",
     "text": [
      "[[ 6.  8.]\n",
      " [10. 12.]]\n",
      "[[-4. -4.]\n",
      " [-4. -4.]]\n",
      "[[-4. -4.]\n",
      " [-4. -4.]]\n",
      "[[ 5. 12.]\n",
      " [21. 32.]]\n",
      "[[ 5. 12.]\n",
      " [21. 32.]]\n",
      "[[0.2        0.33333333]\n",
      " [0.42857143 0.5       ]]\n",
      "[[0.2        0.33333333]\n",
      " [0.42857143 0.5       ]]\n",
      "[[1.         1.41421356]\n",
      " [1.73205081 2.        ]]\n"
     ]
    }
   ],
   "source": [
    "\n",
    "#Array Math#Array M \n",
    "\n",
    "import numpy as eip\n",
    "\n",
    "eip_in = eip.array([[1,2],[3,4]], dtype=eip.float64)\n",
    "eip_out = eip.array([[5,6],[7,8]], dtype=eip.float64)\n",
    "\n",
    "print(eip.add(eip_in, eip_out)) \n",
    "# [[ 6.0  8.0]\n",
    "#  [10.0 12.0]]\n",
    "\n",
    "print(eip.subtract(eip_in, eip_out)) or print(eip_in - eip_out)\n",
    "# [[-4.0 -4.0]\n",
    "#  [-4.0 -4.0]]\n",
    "\n",
    "print(eip.multiply(eip_in, eip_out)) or print(eip_in * eip_out)\n",
    "# [[ 5.0 12.0]\n",
    "#  [21.0 32.0]]\n",
    "\n",
    "print(eip.divide(eip_in, eip_out)) or print(eip_in / eip_out)\n",
    "# [[ 0.2         0.33333333]\n",
    "#  [ 0.42857143  0.5       ]]\n",
    "\n",
    "print(eip.sqrt(eip_in))\n",
    "# [[ 1.          1.41421356]\n",
    "#  [ 1.73205081  2.        ]]"
   ]
  },
  {
   "cell_type": "code",
   "execution_count": 21,
   "metadata": {},
   "outputs": [
    {
     "name": "stdout",
     "output_type": "stream",
     "text": [
      "219\n",
      "219\n",
      "[29 67]\n",
      "[29 67]\n",
      "[29 67]\n",
      "[29 67]\n"
     ]
    }
   ],
   "source": [
    "\n",
    "#Dot function#Dot fun \n",
    "\n",
    "import numpy as eip\n",
    "\n",
    "eip_in = eip.array([[1,2],[3,4]])\n",
    "eip_out = eip.array([[5,6],[7,8]])\n",
    "\n",
    "mlblr_in = eip.array([9,10])\n",
    "mlblr_out = eip.array([11, 12])\n",
    "\n",
    "# Inner product of vectors; both produce 219\n",
    "print(mlblr_in.dot(mlblr_out))\n",
    "print(eip.dot(mlblr_in, mlblr_out))\n",
    "\n",
    "# Matrix / vector product; both produce the rank 1 array [29 67]\n",
    "print(eip_in.dot(mlblr_in))\n",
    "print(eip.dot(eip_in,mlblr_in))\n",
    "\n",
    "# Matrix / matrix product; both produce the rank 2 array\n",
    "# [[19 22]\n",
    "#  [43 50]]\n",
    "print(eip_in.dot(mlblr_in))\n",
    "print(eip.dot(eip_in, mlblr_in))"
   ]
  },
  {
   "cell_type": "code",
   "execution_count": 22,
   "metadata": {},
   "outputs": [
    {
     "name": "stdout",
     "output_type": "stream",
     "text": [
      "10\n",
      "[4 6]\n",
      "[3 7]\n"
     ]
    }
   ],
   "source": [
    "\n",
    "#Sum along an axis#Sum alo \n",
    "\n",
    "import numpy as eip\n",
    "\n",
    "eip_in = eip.array([[1,2],[3,4]])\n",
    "\n",
    "print(eip.sum(eip_in))  # Compute sum of all elements; prints \"10\"\n",
    "print(eip.sum(eip_in, axis=0))  # Compute sum of each column; prints \"[4 6]\"\n",
    "print(eip.sum(eip_in, axis=1))  # Compute sum of each row; prints \"[3 7]\""
   ]
  },
  {
   "cell_type": "code",
   "execution_count": 23,
   "metadata": {},
   "outputs": [
    {
     "data": {
      "text/plain": [
       "<Figure size 640x480 with 1 Axes>"
      ]
     },
     "metadata": {},
     "output_type": "display_data"
    }
   ],
   "source": [
    "#MathPlotLib - Plotting Graphs\n",
    "\n",
    "import numpy as eip\n",
    "import matplotlib.pyplot as mlblr\n",
    "\n",
    "# Compute the x and y coordinates for points on a sine curve\n",
    "eip_in = eip.arange(0, 3 * eip.pi, 0.1)\n",
    "eip_out = eip.sin(eip_in)\n",
    "\n",
    "# Plot the points using matplotlib\n",
    "mlblr.plot(eip_in, eip_out)\n",
    "mlblr.show()  # You must call plt.show() to make graphics appear."
   ]
  },
  {
   "cell_type": "code",
   "execution_count": null,
   "metadata": {},
   "outputs": [],
   "source": []
  }
 ],
 "metadata": {
  "kernelspec": {
   "display_name": "Python 3",
   "language": "python",
   "name": "python3"
  },
  "language_info": {
   "codemirror_mode": {
    "name": "ipython",
    "version": 3
   },
   "file_extension": ".py",
   "mimetype": "text/x-python",
   "name": "python",
   "nbconvert_exporter": "python",
   "pygments_lexer": "ipython3",
   "version": "3.6.5"
  }
 },
 "nbformat": 4,
 "nbformat_minor": 2
}
