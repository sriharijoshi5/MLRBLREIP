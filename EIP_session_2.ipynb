{
 "cells": [
  {
   "cell_type": "code",
   "execution_count": 1,
   "metadata": {},
   "outputs": [
    {
     "name": "stdout",
     "output_type": "stream",
     "text": [
      "<class 'int'>\n",
      "3\n",
      "4\n",
      "2\n",
      "6\n",
      "9\n",
      "4\n",
      "8\n",
      "<class 'float'>\n",
      "2.5 3.5 5.0 6.25\n"
     ]
    }
   ],
   "source": [
    "#Datatypes#Dataty \n",
    "#Integers and floating numbers, basic arithmetic operations\n",
    "eip = 3\n",
    "print(type(eip)) # Prints \"<class 'int'>\"\n",
    "print(eip)       # Prints \"3\"\n",
    "print(eip + 1)   # Addition; prints \"4\"\n",
    "print(eip - 1)   # Subtraction; prints \"2\"\n",
    "print(eip * 2)   # Multiplication; prints \"6\"\n",
    "print(eip ** 2)  # Exponentiation; prints \"9\"\n",
    "eip += 1\n",
    "print(eip)  # Prints \"4\"\n",
    "eip *= 2\n",
    "print(eip)  # Prints \"8\"\n",
    "mlblr = 2.5\n",
    "print(type(mlblr)) # Prints \"<class 'float'>\"\n",
    "print(mlblr, mlblr + 1, mlblr * 2, mlblr ** 2) # Prints \"2.5 3.5 5.0 6.25\""
   ]
  },
  {
   "cell_type": "code",
   "execution_count": 2,
   "metadata": {},
   "outputs": [
    {
     "name": "stdout",
     "output_type": "stream",
     "text": [
      "<class 'bool'>\n",
      "False\n",
      "True\n",
      "False\n",
      "True\n"
     ]
    }
   ],
   "source": [
    "#Boolean operations\n",
    "eip = True\n",
    "mlblr = False\n",
    "print(type(eip)) # Prints \"<class 'bool'>\"\n",
    "print(eip and mlblr) # Logical AND; prints \"False\"\n",
    "print(eip or mlblr)  # Logical OR; prints \"True\"\n",
    "print(not eip)   # Logical NOT; prints \"False\"\n",
    "print(eip != mlblr)  # Logical XOR; prints \"True\""
   ]
  },
  {
   "cell_type": "code",
   "execution_count": 3,
   "metadata": {},
   "outputs": [
    {
     "name": "stdout",
     "output_type": "stream",
     "text": [
      "hello\n",
      "5\n",
      "hello world\n",
      "hello world 2018\n",
      "Hello\n",
      "HELLO\n",
      "  hello\n",
      " hello \n",
      "he(ell)(ell)o\n",
      "world\n"
     ]
    }
   ],
   "source": [
    "# Python strings\n",
    "eip = 'hello'    # String literals can use single quotes\n",
    "mlblr = \"world\"    # or double quotes; it does not matter.\n",
    "print(eip)       # Prints \"hello\"\n",
    "print(len(eip))  # String length; prints \"5\"\n",
    "eip_in = eip + ' ' + mlblr  # String concatenation\n",
    "print(eip_in)  # prints \"hello world\"\n",
    "eip_out = '%s %s %d' % (eip, mlblr, 2018)  # sprintf style string formatting\n",
    "print(eip_out)  # prints \"hello world 2018\"\n",
    "\n",
    "# methods which can be applied for strings\n",
    "\n",
    "mlblr_in = \"hello\"\n",
    "print(mlblr_in.capitalize())  # Capitalize a string; prints \"Hello\"\n",
    "print(mlblr_in.upper())       # Convert a string to uppercase; prints \"HELLO\"\n",
    "print(mlblr_in.rjust(7))      # Right-justify a string, padding with spaces; prints \"  hello\"\n",
    "print(mlblr_in.center(7))     # Center a string, padding with spaces; prints \" hello \"\n",
    "print(mlblr_in.replace('l', '(ell)'))  # Replace all instances of one substring with another; # prints \"he(ell)(ell)o\"\n",
    "print('  world '.strip())  # Strip leading and trailing whitespace; prints \"world\""
   ]
  },
  {
   "cell_type": "code",
   "execution_count": 4,
   "metadata": {},
   "outputs": [
    {
     "name": "stdout",
     "output_type": "stream",
     "text": [
      "[3, 1, 2] 2\n",
      "2\n",
      "[3, 1, 'foo']\n",
      "[3, 1, 'foo', 'bar']\n",
      "bar [3, 1, 'foo']\n"
     ]
    }
   ],
   "source": [
    "#Containersa in Python\n",
    "#List\n",
    "eip_list = [3, 1, 2]    # Create a list\n",
    "print(eip_list, eip_list[2])  # Prints \"[3, 1, 2] 2\"\n",
    "print(eip_list[-1])     # Negative indices count from the end of the list; prints \"2\"\n",
    "eip_list[2] = 'foo'     # Lists can contain elements of different types\n",
    "print(eip_list)         # Prints \"[3, 1, 'foo']\"\n",
    "eip_list.append('bar')  # Add a new element to the end of the list\n",
    "print(eip_list)         # Prints \"[3, 1, 'foo', 'bar']\"\n",
    "eip = eip_list.pop()      # Remove and return the last element of the list\n",
    "print(eip, eip_list)      # Prints \"bar [3, 1, 'foo']\""
   ]
  },
  {
   "cell_type": "code",
   "execution_count": 5,
   "metadata": {},
   "outputs": [
    {
     "name": "stdout",
     "output_type": "stream",
     "text": [
      "[0, 1, 2, 3, 4]\n",
      "[2, 3]\n",
      "[2, 3, 4]\n",
      "[0, 1]\n",
      "[0, 1, 2, 3, 4]\n",
      "[0, 1, 2, 3]\n",
      "[0, 1, 8, 9, 4]\n"
     ]
    }
   ],
   "source": [
    "#Slicing \n",
    "\n",
    "mlblr = list(range(5))     # range is a built-in function that creates a list of integers\n",
    "print(mlblr)               # Prints \"[0, 1, 2, 3, 4]\"\n",
    "print(mlblr[2:4])          # Get a slice from index 2 to 4 (exclusive); prints \"[2, 3]\"\n",
    "print(mlblr[2:])           # Get a slice from index 2 to the end; prints \"[2, 3, 4]\"\n",
    "print(mlblr[:2])           # Get a slice from the start to index 2 (exclusive); prints \"[0, 1]\"\n",
    "print(mlblr[:])            # Get a slice of the whole list; prints \"[0, 1, 2, 3, 4]\"\n",
    "print(mlblr[:-1])          # Slice indices can be negative; prints \"[0, 1, 2, 3]\"\n",
    "mlblr[2:4] = [8, 9]        # Assign a new sublist to a slice\n",
    "print(mlblr)               # Prints \"[0, 1, 8, 9, 4]\""
   ]
  },
  {
   "cell_type": "code",
   "execution_count": 6,
   "metadata": {},
   "outputs": [
    {
     "name": "stdout",
     "output_type": "stream",
     "text": [
      "cat\n",
      "dog\n",
      "monkey\n",
      "#1: cat\n",
      "#2: dog\n",
      "#3: monkey\n"
     ]
    }
   ],
   "source": [
    "#Loops\n",
    "\n",
    "eip_list = ['cat', 'dog', 'monkey']\n",
    "for eip in eip_list:\n",
    "    print(eip)\n",
    "# Prints \"cat\", \"dog\", \"monkey\", each on its own line.\n",
    "\n",
    "#Enumerate\n",
    "\n",
    "eip_out = ['cat', 'dog', 'monkey']\n",
    "for mlblr, eip in enumerate(eip_out):\n",
    "    print('#%d: %s' % (mlblr + 1, eip))\n",
    "# Prints \"#1: cat\", \"#2: dog\", \"#3: monkey\", each on its own line"
   ]
  },
  {
   "cell_type": "code",
   "execution_count": 7,
   "metadata": {},
   "outputs": [
    {
     "name": "stdout",
     "output_type": "stream",
     "text": [
      "[0, 1, 4, 9, 16]\n",
      "[0, 1, 4, 9, 16]\n",
      "[0, 4, 16]\n"
     ]
    }
   ],
   "source": [
    "#List Comprehension\n",
    "\n",
    "eip_list = [0, 1, 2, 3, 4]\n",
    "eip = []\n",
    "for eip_in in eip_list:\n",
    "    eip.append(eip_in ** 2)\n",
    "print(eip)   # Prints [0, 1, 4, 9, 16]\n",
    "\n",
    "eip_list = [0, 1, 2, 3, 4]\n",
    "eip_out = [eip_in ** 2 for eip_in in eip_list]\n",
    "print(eip_out)   # Prints [0, 1, 4, 9, 16]\n",
    "\n",
    "# list comprehensions can also contain conditions\n",
    "\n",
    "eip_list = [0, 1, 2, 3, 4]\n",
    "eip_out = [eip_in ** 2 for eip_in in eip_list if eip_in % 2 == 0]\n",
    "print(eip_out)  # Prints \"[0, 4, 16]\""
   ]
  },
  {
   "cell_type": "code",
   "execution_count": 8,
   "metadata": {},
   "outputs": [
    {
     "name": "stdout",
     "output_type": "stream",
     "text": [
      "cute\n",
      "True\n",
      "wet\n",
      "N/A\n",
      "wet\n",
      "N/A\n",
      "A person has 2 legs\n",
      "A cat has 4 legs\n",
      "A spider has 8 legs\n"
     ]
    }
   ],
   "source": [
    "\n",
    "#Dictionaries#Diction \n",
    "\n",
    "eip_dict = {'cat': 'cute', 'dog': 'furry'}  # Create a new dictionary with some data\n",
    "print(eip_dict['cat'])       # Get an entry from a dictionary; prints \"cute\"\n",
    "print('cat' in eip_dict)     # Check if a dictionary has a given key; prints \"True\"\n",
    "eip_dict['fish'] = 'wet'     # Set an entry in a dictionary\n",
    "print(eip_dict['fish'])      # Prints \"wet\"\n",
    "# print(eip_dict['monkey'])  # KeyError: 'monkey' not a key of d\n",
    "print(eip_dict.get('monkey', 'N/A'))  # Get an element with a default; prints \"N/A\"\n",
    "print(eip_dict.get('fish', 'N/A'))    # Get an element with a default; prints \"wet\"\n",
    "del eip_dict['fish']         # Remove an element from a dictionary\n",
    "print(eip_dict.get('fish', 'N/A')) # \"fish\" is no longer a key; prints \"N/A\"\n",
    "\n",
    "\n",
    "# It is easy to iterate over the keys in a dictionary\n",
    "\n",
    "eip_dict = {'person': 2, 'cat': 4, 'spider': 8}\n",
    "for eip_in in eip_dict:\n",
    "    eip_out = eip_dict[eip_in]\n",
    "    print('A %s has %d legs' % (eip_in, eip_out))\n",
    "# Prints \"A person has 2 legs\", \"A cat has 4 legs\", \"A spider has 8 legs\""
   ]
  },
  {
   "cell_type": "code",
   "execution_count": 9,
   "metadata": {},
   "outputs": [
    {
     "name": "stdout",
     "output_type": "stream",
     "text": [
      "A person has 2 legs\n",
      "A cat has 4 legs\n",
      "A spider has 8 legs\n",
      "{0: 0, 2: 4, 4: 16}\n"
     ]
    }
   ],
   "source": [
    "#Dictionary Comprehension\n",
    "\n",
    "# If you want access to keys and their corresponding values, use the items method:\n",
    "\n",
    "eip_dict = {'person': 2, 'cat': 4, 'spider': 8}\n",
    "for eip_in, eip_out in eip_dict.items():\n",
    "    print('A %s has %d legs' % (eip_in, eip_out))\n",
    "# Prints \"A person has 2 legs\", \"A cat has 4 legs\", \"A spider has 8 legs\"\n",
    "\n",
    "# Dictionary comprehension\n",
    "\n",
    "eip_dict = [0, 1, 2, 3, 4]\n",
    "eip_out = {eip_in: eip_in ** 2 for eip_in in eip_dict if eip_in % 2 == 0}\n",
    "print(eip_out)  # Prints \"{0: 0, 2: 4, 4: 16}\""
   ]
  },
  {
   "cell_type": "code",
   "execution_count": 10,
   "metadata": {},
   "outputs": [
    {
     "ename": "IndentationError",
     "evalue": "unexpected indent (<ipython-input-10-bf7a4e5fb00a>, line 4)",
     "output_type": "error",
     "traceback": [
      "\u001b[1;36m  File \u001b[1;32m\"<ipython-input-10-bf7a4e5fb00a>\"\u001b[1;36m, line \u001b[1;32m4\u001b[0m\n\u001b[1;33m    eip_listeip_list = {'cat', 'dog'}\u001b[0m\n\u001b[1;37m    ^\u001b[0m\n\u001b[1;31mIndentationError\u001b[0m\u001b[1;31m:\u001b[0m unexpected indent\n"
     ]
    }
   ],
   "source": [
    "\n",
    "#Sets#Sets\n",
    "\n",
    "  eip_listeip_list = {'cat', 'dog'}\n",
    "print('cat' in eip_list)   # Check if an element is in a set; prints \"True\"\n",
    "print('fish' in eip_list)  # prints \"False\"\n",
    "eip_list.add('fish')       # Add an element to a set\n",
    "print('fish' in eip_list)  # Prints \"True\"\n",
    "print(len(eip_list))       # Number of elements in a set; prints \"3\"\n",
    "eip_list.add('cat')        # Adding an element that is already in the set does nothing\n",
    "print(len(eip_list))       # Prints \"3\"\n",
    "eip_list.remove('cat')     # Remove an element from a set\n",
    "print(len(eip_list))       # Prints \"2\""
   ]
  },
  {
   "cell_type": "code",
   "execution_count": 11,
   "metadata": {},
   "outputs": [
    {
     "name": "stdout",
     "output_type": "stream",
     "text": [
      "False\n",
      "False\n"
     ]
    },
    {
     "ename": "AttributeError",
     "evalue": "'list' object has no attribute 'add'",
     "output_type": "error",
     "traceback": [
      "\u001b[1;31m---------------------------------------------------------------------------\u001b[0m",
      "\u001b[1;31mAttributeError\u001b[0m                            Traceback (most recent call last)",
      "\u001b[1;32m<ipython-input-11-ea98a3da7f04>\u001b[0m in \u001b[0;36m<module>\u001b[1;34m()\u001b[0m\n\u001b[0;32m      5\u001b[0m \u001b[0mprint\u001b[0m\u001b[1;33m(\u001b[0m\u001b[1;34m'cat'\u001b[0m \u001b[1;32min\u001b[0m \u001b[0meip_list\u001b[0m\u001b[1;33m)\u001b[0m   \u001b[1;31m# Check if an element is in a set; prints \"True\"\u001b[0m\u001b[1;33m\u001b[0m\u001b[0m\n\u001b[0;32m      6\u001b[0m \u001b[0mprint\u001b[0m\u001b[1;33m(\u001b[0m\u001b[1;34m'fish'\u001b[0m \u001b[1;32min\u001b[0m \u001b[0meip_list\u001b[0m\u001b[1;33m)\u001b[0m  \u001b[1;31m# prints \"False\"\u001b[0m\u001b[1;33m\u001b[0m\u001b[0m\n\u001b[1;32m----> 7\u001b[1;33m \u001b[0meip_list\u001b[0m\u001b[1;33m.\u001b[0m\u001b[0madd\u001b[0m\u001b[1;33m(\u001b[0m\u001b[1;34m'fish'\u001b[0m\u001b[1;33m)\u001b[0m       \u001b[1;31m# Add an element to a set\u001b[0m\u001b[1;33m\u001b[0m\u001b[0m\n\u001b[0m\u001b[0;32m      8\u001b[0m \u001b[0mprint\u001b[0m\u001b[1;33m(\u001b[0m\u001b[1;34m'fish'\u001b[0m \u001b[1;32min\u001b[0m \u001b[0meip_list\u001b[0m\u001b[1;33m)\u001b[0m  \u001b[1;31m# Prints \"True\"\u001b[0m\u001b[1;33m\u001b[0m\u001b[0m\n\u001b[0;32m      9\u001b[0m \u001b[0mprint\u001b[0m\u001b[1;33m(\u001b[0m\u001b[0mlen\u001b[0m\u001b[1;33m(\u001b[0m\u001b[0meip_list\u001b[0m\u001b[1;33m)\u001b[0m\u001b[1;33m)\u001b[0m       \u001b[1;31m# Number of elements in a set; prints \"3\"\u001b[0m\u001b[1;33m\u001b[0m\u001b[0m\n",
      "\u001b[1;31mAttributeError\u001b[0m: 'list' object has no attribute 'add'"
     ]
    }
   ],
   "source": [
    "\n",
    "#Sets#Sets\n",
    "\n",
    "eip_listeip_list = {'cat', 'dog'}\n",
    "print('cat' in eip_list)   # Check if an element is in a set; prints \"True\"\n",
    "print('fish' in eip_list)  # prints \"False\"\n",
    "eip_list.add('fish')       # Add an element to a set\n",
    "print('fish' in eip_list)  # Prints \"True\"\n",
    "print(len(eip_list))       # Number of elements in a set; prints \"3\"\n",
    "eip_list.add('cat')        # Adding an element that is already in the set does nothing\n",
    "print(len(eip_list))       # Prints \"3\"\n",
    "eip_list.remove('cat')     # Remove an element from a set\n",
    "print(len(eip_list))       # Prints \"2\""
   ]
  },
  {
   "cell_type": "code",
   "execution_count": 12,
   "metadata": {},
   "outputs": [
    {
     "name": "stdout",
     "output_type": "stream",
     "text": [
      "True\n",
      "False\n",
      "True\n",
      "3\n",
      "3\n",
      "2\n"
     ]
    }
   ],
   "source": [
    "#Sets\n",
    "\n",
    "eip_list = {'cat', 'dog'}\n",
    "print('cat' in eip_list)   # Check if an element is in a set; prints \"True\"\n",
    "print('fish' in eip_list)  # prints \"False\"\n",
    "eip_list.add('fish')       # Add an element to a set\n",
    "print('fish' in eip_list)  # Prints \"True\"\n",
    "print(len(eip_list))       # Number of elements in a set; prints \"3\"\n",
    "eip_list.add('cat')        # Adding an element that is already in the set does nothing\n",
    "print(len(eip_list))       # Prints \"3\"\n",
    "eip_list.remove('cat')     # Remove an element from a set\n",
    "print(len(eip_list))       # Prints \"2\""
   ]
  },
  {
   "cell_type": "code",
   "execution_count": null,
   "metadata": {},
   "outputs": [],
   "source": []
  }
 ],
 "metadata": {
  "kernelspec": {
   "display_name": "Python 3",
   "language": "python",
   "name": "python3"
  },
  "language_info": {
   "codemirror_mode": {
    "name": "ipython",
    "version": 3
   },
   "file_extension": ".py",
   "mimetype": "text/x-python",
   "name": "python",
   "nbconvert_exporter": "python",
   "pygments_lexer": "ipython3",
   "version": "3.6.5"
  }
 },
 "nbformat": 4,
 "nbformat_minor": 2
}
